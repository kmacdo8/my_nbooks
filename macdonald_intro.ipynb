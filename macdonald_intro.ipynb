{
 "cells": [
  {
   "cell_type": "markdown",
   "id": "881149d7-aeda-42b3-bb84-0f673abe2a04",
   "metadata": {},
   "source": [
    "# Notebook One"
   ]
  },
  {
   "cell_type": "markdown",
   "id": "26d7f5b1-0ad1-4bbe-8c09-4572de53a7e1",
   "metadata": {},
   "source": [
    "## Kyla MacDonald"
   ]
  },
  {
   "cell_type": "code",
   "execution_count": null,
   "id": "913919a7-0804-4659-85c2-94060c3f2d60",
   "metadata": {},
   "outputs": [],
   "source": [
    "import random\n",
    "nums = [random.randint(30,100) for x in range(40)]"
   ]
  },
  {
   "cell_type": "code",
   "execution_count": null,
   "id": "16b05808-cf80-4662-9274-6ef76b0608a1",
   "metadata": {},
   "outputs": [],
   "source": [
    "nums.sort()\n",
    "counter = 0\n",
    "for x in nums:\n",
    "    counter += 1\n",
    "    if counter == 1:\n",
    "        print(*nums,end = ' ')"
   ]
  },
  {
   "cell_type": "markdown",
   "id": "0dd7e38f-e310-4de9-866f-0817b62ee56d",
   "metadata": {},
   "source": [
    "## \"The Sample Mean\"\n",
    "- To calculate a sample mean:\n",
    "- Add the total sample values.\n",
    "- Divide the sum by the number of sample values.\n",
    "- The quotient renders the sample mean."
   ]
  },
  {
   "cell_type": "markdown",
   "id": "201d4cb7-98fb-4934-8199-4e32f19b5653",
   "metadata": {},
   "source": [
    "$\n",
    "\\overline{X} = \\frac{\\sum x_i}{n}\n",
    "$"
   ]
  },
  {
   "cell_type": "code",
   "execution_count": null,
   "id": "527e3d90-ed60-4630-a401-8d314cf8dfb4",
   "metadata": {},
   "outputs": [],
   "source": [
    "total = 0.0\n",
    "for value in nums:\n",
    "    total += value\n",
    "avg = total / len(nums)\n",
    "print(f'The sample mean is {avg:.2f}')"
   ]
  },
  {
   "cell_type": "markdown",
   "id": "e3d57799-9062-4b68-8862-d1f311ce4ae7",
   "metadata": {},
   "source": [
    "## \"The Median\"\n",
    "https://www.ncbi.nlm.nih.gov/books/NBK470533/"
   ]
  },
  {
   "cell_type": "code",
   "execution_count": null,
   "id": "6c1c6f1a-825a-4888-9049-27d0bb2aa8d4",
   "metadata": {},
   "outputs": [],
   "source": [
    "# For an even number of values, add the two middle values together.\n",
    "# take this sum and divide by two to get the median\n",
    "median = float((nums[19] + nums[20]) / 2)\n",
    "print(f'The median is {median:.1f}')"
   ]
  }
 ],
 "metadata": {
  "kernelspec": {
   "display_name": "Python 3 (ipykernel)",
   "language": "python",
   "name": "python3"
  },
  "language_info": {
   "codemirror_mode": {
    "name": "ipython",
    "version": 3
   },
   "file_extension": ".py",
   "mimetype": "text/x-python",
   "name": "python",
   "nbconvert_exporter": "python",
   "pygments_lexer": "ipython3",
   "version": "3.11.7"
  }
 },
 "nbformat": 4,
 "nbformat_minor": 5
}
